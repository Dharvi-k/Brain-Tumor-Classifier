{
  "nbformat": 4,
  "nbformat_minor": 0,
  "metadata": {
    "colab": {
      "provenance": [],
      "gpuType": "T4"
    },
    "kernelspec": {
      "name": "python3",
      "display_name": "Python 3"
    },
    "language_info": {
      "name": "python"
    },
    "accelerator": "GPU",
    "widgets": {
      "application/vnd.jupyter.widget-state+json": {
        "44d42f929ddd4d5d8fb3ec7bb5251cf4": {
          "model_module": "@jupyter-widgets/controls",
          "model_name": "HBoxModel",
          "model_module_version": "1.5.0",
          "state": {
            "_dom_classes": [],
            "_model_module": "@jupyter-widgets/controls",
            "_model_module_version": "1.5.0",
            "_model_name": "HBoxModel",
            "_view_count": null,
            "_view_module": "@jupyter-widgets/controls",
            "_view_module_version": "1.5.0",
            "_view_name": "HBoxView",
            "box_style": "",
            "children": [
              "IPY_MODEL_121eb8191af747a4808be4f61403b22e",
              "IPY_MODEL_20a3eb4bf13345ffa340151994597a9c",
              "IPY_MODEL_4f162666a3ad408cac09353c33202b12"
            ],
            "layout": "IPY_MODEL_d10218f947c64a69805f4a2633516fc8"
          }
        },
        "121eb8191af747a4808be4f61403b22e": {
          "model_module": "@jupyter-widgets/controls",
          "model_name": "HTMLModel",
          "model_module_version": "1.5.0",
          "state": {
            "_dom_classes": [],
            "_model_module": "@jupyter-widgets/controls",
            "_model_module_version": "1.5.0",
            "_model_name": "HTMLModel",
            "_view_count": null,
            "_view_module": "@jupyter-widgets/controls",
            "_view_module_version": "1.5.0",
            "_view_name": "HTMLView",
            "description": "",
            "description_tooltip": null,
            "layout": "IPY_MODEL_626aedcd4353400bbbff6b8115232a8e",
            "placeholder": "​",
            "style": "IPY_MODEL_0ba6cc0a75b6425f9727578a61ce21d6",
            "value": "100%"
          }
        },
        "20a3eb4bf13345ffa340151994597a9c": {
          "model_module": "@jupyter-widgets/controls",
          "model_name": "FloatProgressModel",
          "model_module_version": "1.5.0",
          "state": {
            "_dom_classes": [],
            "_model_module": "@jupyter-widgets/controls",
            "_model_module_version": "1.5.0",
            "_model_name": "FloatProgressModel",
            "_view_count": null,
            "_view_module": "@jupyter-widgets/controls",
            "_view_module_version": "1.5.0",
            "_view_name": "ProgressView",
            "bar_style": "success",
            "description": "",
            "description_tooltip": null,
            "layout": "IPY_MODEL_3bbd2ad65b9c4eafb13c6d5192a94ccc",
            "max": 5,
            "min": 0,
            "orientation": "horizontal",
            "style": "IPY_MODEL_ea365c8f7eba4df381febfaaf89dc020",
            "value": 5
          }
        },
        "4f162666a3ad408cac09353c33202b12": {
          "model_module": "@jupyter-widgets/controls",
          "model_name": "HTMLModel",
          "model_module_version": "1.5.0",
          "state": {
            "_dom_classes": [],
            "_model_module": "@jupyter-widgets/controls",
            "_model_module_version": "1.5.0",
            "_model_name": "HTMLModel",
            "_view_count": null,
            "_view_module": "@jupyter-widgets/controls",
            "_view_module_version": "1.5.0",
            "_view_name": "HTMLView",
            "description": "",
            "description_tooltip": null,
            "layout": "IPY_MODEL_e0448e722674482fb2e2b8413af37ab9",
            "placeholder": "​",
            "style": "IPY_MODEL_a771dfd7ed124f0ca5750082d50c069d",
            "value": " 5/5 [06:34&lt;00:00, 80.38s/it]"
          }
        },
        "d10218f947c64a69805f4a2633516fc8": {
          "model_module": "@jupyter-widgets/base",
          "model_name": "LayoutModel",
          "model_module_version": "1.2.0",
          "state": {
            "_model_module": "@jupyter-widgets/base",
            "_model_module_version": "1.2.0",
            "_model_name": "LayoutModel",
            "_view_count": null,
            "_view_module": "@jupyter-widgets/base",
            "_view_module_version": "1.2.0",
            "_view_name": "LayoutView",
            "align_content": null,
            "align_items": null,
            "align_self": null,
            "border": null,
            "bottom": null,
            "display": null,
            "flex": null,
            "flex_flow": null,
            "grid_area": null,
            "grid_auto_columns": null,
            "grid_auto_flow": null,
            "grid_auto_rows": null,
            "grid_column": null,
            "grid_gap": null,
            "grid_row": null,
            "grid_template_areas": null,
            "grid_template_columns": null,
            "grid_template_rows": null,
            "height": null,
            "justify_content": null,
            "justify_items": null,
            "left": null,
            "margin": null,
            "max_height": null,
            "max_width": null,
            "min_height": null,
            "min_width": null,
            "object_fit": null,
            "object_position": null,
            "order": null,
            "overflow": null,
            "overflow_x": null,
            "overflow_y": null,
            "padding": null,
            "right": null,
            "top": null,
            "visibility": null,
            "width": null
          }
        },
        "626aedcd4353400bbbff6b8115232a8e": {
          "model_module": "@jupyter-widgets/base",
          "model_name": "LayoutModel",
          "model_module_version": "1.2.0",
          "state": {
            "_model_module": "@jupyter-widgets/base",
            "_model_module_version": "1.2.0",
            "_model_name": "LayoutModel",
            "_view_count": null,
            "_view_module": "@jupyter-widgets/base",
            "_view_module_version": "1.2.0",
            "_view_name": "LayoutView",
            "align_content": null,
            "align_items": null,
            "align_self": null,
            "border": null,
            "bottom": null,
            "display": null,
            "flex": null,
            "flex_flow": null,
            "grid_area": null,
            "grid_auto_columns": null,
            "grid_auto_flow": null,
            "grid_auto_rows": null,
            "grid_column": null,
            "grid_gap": null,
            "grid_row": null,
            "grid_template_areas": null,
            "grid_template_columns": null,
            "grid_template_rows": null,
            "height": null,
            "justify_content": null,
            "justify_items": null,
            "left": null,
            "margin": null,
            "max_height": null,
            "max_width": null,
            "min_height": null,
            "min_width": null,
            "object_fit": null,
            "object_position": null,
            "order": null,
            "overflow": null,
            "overflow_x": null,
            "overflow_y": null,
            "padding": null,
            "right": null,
            "top": null,
            "visibility": null,
            "width": null
          }
        },
        "0ba6cc0a75b6425f9727578a61ce21d6": {
          "model_module": "@jupyter-widgets/controls",
          "model_name": "DescriptionStyleModel",
          "model_module_version": "1.5.0",
          "state": {
            "_model_module": "@jupyter-widgets/controls",
            "_model_module_version": "1.5.0",
            "_model_name": "DescriptionStyleModel",
            "_view_count": null,
            "_view_module": "@jupyter-widgets/base",
            "_view_module_version": "1.2.0",
            "_view_name": "StyleView",
            "description_width": ""
          }
        },
        "3bbd2ad65b9c4eafb13c6d5192a94ccc": {
          "model_module": "@jupyter-widgets/base",
          "model_name": "LayoutModel",
          "model_module_version": "1.2.0",
          "state": {
            "_model_module": "@jupyter-widgets/base",
            "_model_module_version": "1.2.0",
            "_model_name": "LayoutModel",
            "_view_count": null,
            "_view_module": "@jupyter-widgets/base",
            "_view_module_version": "1.2.0",
            "_view_name": "LayoutView",
            "align_content": null,
            "align_items": null,
            "align_self": null,
            "border": null,
            "bottom": null,
            "display": null,
            "flex": null,
            "flex_flow": null,
            "grid_area": null,
            "grid_auto_columns": null,
            "grid_auto_flow": null,
            "grid_auto_rows": null,
            "grid_column": null,
            "grid_gap": null,
            "grid_row": null,
            "grid_template_areas": null,
            "grid_template_columns": null,
            "grid_template_rows": null,
            "height": null,
            "justify_content": null,
            "justify_items": null,
            "left": null,
            "margin": null,
            "max_height": null,
            "max_width": null,
            "min_height": null,
            "min_width": null,
            "object_fit": null,
            "object_position": null,
            "order": null,
            "overflow": null,
            "overflow_x": null,
            "overflow_y": null,
            "padding": null,
            "right": null,
            "top": null,
            "visibility": null,
            "width": null
          }
        },
        "ea365c8f7eba4df381febfaaf89dc020": {
          "model_module": "@jupyter-widgets/controls",
          "model_name": "ProgressStyleModel",
          "model_module_version": "1.5.0",
          "state": {
            "_model_module": "@jupyter-widgets/controls",
            "_model_module_version": "1.5.0",
            "_model_name": "ProgressStyleModel",
            "_view_count": null,
            "_view_module": "@jupyter-widgets/base",
            "_view_module_version": "1.2.0",
            "_view_name": "StyleView",
            "bar_color": null,
            "description_width": ""
          }
        },
        "e0448e722674482fb2e2b8413af37ab9": {
          "model_module": "@jupyter-widgets/base",
          "model_name": "LayoutModel",
          "model_module_version": "1.2.0",
          "state": {
            "_model_module": "@jupyter-widgets/base",
            "_model_module_version": "1.2.0",
            "_model_name": "LayoutModel",
            "_view_count": null,
            "_view_module": "@jupyter-widgets/base",
            "_view_module_version": "1.2.0",
            "_view_name": "LayoutView",
            "align_content": null,
            "align_items": null,
            "align_self": null,
            "border": null,
            "bottom": null,
            "display": null,
            "flex": null,
            "flex_flow": null,
            "grid_area": null,
            "grid_auto_columns": null,
            "grid_auto_flow": null,
            "grid_auto_rows": null,
            "grid_column": null,
            "grid_gap": null,
            "grid_row": null,
            "grid_template_areas": null,
            "grid_template_columns": null,
            "grid_template_rows": null,
            "height": null,
            "justify_content": null,
            "justify_items": null,
            "left": null,
            "margin": null,
            "max_height": null,
            "max_width": null,
            "min_height": null,
            "min_width": null,
            "object_fit": null,
            "object_position": null,
            "order": null,
            "overflow": null,
            "overflow_x": null,
            "overflow_y": null,
            "padding": null,
            "right": null,
            "top": null,
            "visibility": null,
            "width": null
          }
        },
        "a771dfd7ed124f0ca5750082d50c069d": {
          "model_module": "@jupyter-widgets/controls",
          "model_name": "DescriptionStyleModel",
          "model_module_version": "1.5.0",
          "state": {
            "_model_module": "@jupyter-widgets/controls",
            "_model_module_version": "1.5.0",
            "_model_name": "DescriptionStyleModel",
            "_view_count": null,
            "_view_module": "@jupyter-widgets/base",
            "_view_module_version": "1.2.0",
            "_view_name": "StyleView",
            "description_width": ""
          }
        }
      }
    }
  },
  "cells": [
    {
      "cell_type": "markdown",
      "source": [
        "# Brain Tumor Classification using Deep Learning (PyTorch)"
      ],
      "metadata": {
        "id": "J-B-LOSt9Tt4"
      }
    },
    {
      "cell_type": "markdown",
      "source": [
        " Brain Tumor Classification using Deep Learning (PyTorch)\n",
        "------------------------------------------------------------\n",
        "This project aims to classify MRI brain scans into 4 tumor types:\n",
        " 1. Glioma Tumor\n",
        "\n",
        " 2. Meningioma Tumor\n",
        "\n",
        " 3. Pituitary Tumor\n",
        "\n",
        " 4. No Tumor\n",
        "\n",
        " ✅ We used a transfer learning approach with a pre-trained CNN (e.g., ResNet18).\n",
        "\n",
        " ✅ The dataset was preprocessed and merged from multiple sources.\n",
        "\n",
        " ✅ The model was trained, validated, and tested — achieving an accuracy of ~91.\n",
        " 55%.\n",
        "\n",
        " ✅ A real-time image prediction interface was built using Gradio.\n",
        "\n",
        "\n",
        " ⚠️ Note: Fine-tuning was attempted on a small real-world dataset, but it reduced performance.\n",
        "\n",
        " Therefore, it has been excluded from the final version.\n"
      ],
      "metadata": {
        "id": "_13f-XytUVuQ"
      }
    },
    {
      "cell_type": "markdown",
      "source": [
        "# Project Setup"
      ],
      "metadata": {
        "id": "hESNbcwy-BsO"
      }
    },
    {
      "cell_type": "markdown",
      "source": [
        "Let’s begin by setting up the environment and checking for GPU"
      ],
      "metadata": {
        "id": "vD8PmWpE-Eef"
      }
    },
    {
      "cell_type": "code",
      "source": [
        "# Import required libraries\n",
        "import os\n",
        "from PIL import Image\n",
        "import numpy as np\n",
        "import torch\n",
        "from torchvision import datasets, transforms,models\n",
        "from torch.utils.data import DataLoader\n",
        "import torch.nn as nn\n",
        "\n",
        "# set up device agnostic code\n",
        "device='cuda' if torch.cuda.is_available() else 'cpu'\n",
        "print(f\"Using device: {device}\")"
      ],
      "metadata": {
        "colab": {
          "base_uri": "https://localhost:8080/"
        },
        "id": "r4wmB9cG9TPL",
        "outputId": "db9407f1-6a29-40a5-bfb4-6bee7843194f"
      },
      "execution_count": 1,
      "outputs": [
        {
          "output_type": "stream",
          "name": "stdout",
          "text": [
            "Using device: cuda\n"
          ]
        }
      ]
    },
    {
      "cell_type": "markdown",
      "source": [
        "# Define Image Transformations"
      ],
      "metadata": {
        "id": "sPkLLEoGFx9j"
      }
    },
    {
      "cell_type": "code",
      "source": [
        "transform=transforms.Compose([\n",
        "    transforms.Grayscale(num_output_channels=3),\n",
        "    transforms.ToTensor(),                      # Convert to PyTorch tensor\n",
        "    transforms.Resize((224,224)),                # Resize all images\n",
        "    transforms.Normalize(mean=[0.5], std=[0.5])  # Normalize grayscale image\n",
        "])\n",
        "\n"
      ],
      "metadata": {
        "id": "UdhCrChlGbeM"
      },
      "execution_count": 2,
      "outputs": []
    },
    {
      "cell_type": "markdown",
      "source": [
        "# Load and Prepare the Dataset"
      ],
      "metadata": {
        "id": "lpX-nlQ9AwHc"
      }
    },
    {
      "cell_type": "markdown",
      "source": [
        "**Then unzip like this:**"
      ],
      "metadata": {
        "id": "qYzJdp5NEQOp"
      }
    },
    {
      "cell_type": "code",
      "source": [
        "from google.colab import files\n",
        "\n",
        "# upload the zip files\n",
        "uploaded=files.upload()"
      ],
      "metadata": {
        "colab": {
          "base_uri": "https://localhost:8080/",
          "height": 177
        },
        "id": "9FZI8tMhRPrn",
        "outputId": "5084243c-d7ae-430a-c3fb-10d7d80100e6"
      },
      "execution_count": 3,
      "outputs": [
        {
          "output_type": "display_data",
          "data": {
            "text/plain": [
              "<IPython.core.display.HTML object>"
            ],
            "text/html": [
              "\n",
              "     <input type=\"file\" id=\"files-2888bc3c-e855-4815-921b-04d8dd594c0e\" name=\"files[]\" multiple disabled\n",
              "        style=\"border:none\" />\n",
              "     <output id=\"result-2888bc3c-e855-4815-921b-04d8dd594c0e\">\n",
              "      Upload widget is only available when the cell has been executed in the\n",
              "      current browser session. Please rerun this cell to enable.\n",
              "      </output>\n",
              "      <script>// Copyright 2017 Google LLC\n",
              "//\n",
              "// Licensed under the Apache License, Version 2.0 (the \"License\");\n",
              "// you may not use this file except in compliance with the License.\n",
              "// You may obtain a copy of the License at\n",
              "//\n",
              "//      http://www.apache.org/licenses/LICENSE-2.0\n",
              "//\n",
              "// Unless required by applicable law or agreed to in writing, software\n",
              "// distributed under the License is distributed on an \"AS IS\" BASIS,\n",
              "// WITHOUT WARRANTIES OR CONDITIONS OF ANY KIND, either express or implied.\n",
              "// See the License for the specific language governing permissions and\n",
              "// limitations under the License.\n",
              "\n",
              "/**\n",
              " * @fileoverview Helpers for google.colab Python module.\n",
              " */\n",
              "(function(scope) {\n",
              "function span(text, styleAttributes = {}) {\n",
              "  const element = document.createElement('span');\n",
              "  element.textContent = text;\n",
              "  for (const key of Object.keys(styleAttributes)) {\n",
              "    element.style[key] = styleAttributes[key];\n",
              "  }\n",
              "  return element;\n",
              "}\n",
              "\n",
              "// Max number of bytes which will be uploaded at a time.\n",
              "const MAX_PAYLOAD_SIZE = 100 * 1024;\n",
              "\n",
              "function _uploadFiles(inputId, outputId) {\n",
              "  const steps = uploadFilesStep(inputId, outputId);\n",
              "  const outputElement = document.getElementById(outputId);\n",
              "  // Cache steps on the outputElement to make it available for the next call\n",
              "  // to uploadFilesContinue from Python.\n",
              "  outputElement.steps = steps;\n",
              "\n",
              "  return _uploadFilesContinue(outputId);\n",
              "}\n",
              "\n",
              "// This is roughly an async generator (not supported in the browser yet),\n",
              "// where there are multiple asynchronous steps and the Python side is going\n",
              "// to poll for completion of each step.\n",
              "// This uses a Promise to block the python side on completion of each step,\n",
              "// then passes the result of the previous step as the input to the next step.\n",
              "function _uploadFilesContinue(outputId) {\n",
              "  const outputElement = document.getElementById(outputId);\n",
              "  const steps = outputElement.steps;\n",
              "\n",
              "  const next = steps.next(outputElement.lastPromiseValue);\n",
              "  return Promise.resolve(next.value.promise).then((value) => {\n",
              "    // Cache the last promise value to make it available to the next\n",
              "    // step of the generator.\n",
              "    outputElement.lastPromiseValue = value;\n",
              "    return next.value.response;\n",
              "  });\n",
              "}\n",
              "\n",
              "/**\n",
              " * Generator function which is called between each async step of the upload\n",
              " * process.\n",
              " * @param {string} inputId Element ID of the input file picker element.\n",
              " * @param {string} outputId Element ID of the output display.\n",
              " * @return {!Iterable<!Object>} Iterable of next steps.\n",
              " */\n",
              "function* uploadFilesStep(inputId, outputId) {\n",
              "  const inputElement = document.getElementById(inputId);\n",
              "  inputElement.disabled = false;\n",
              "\n",
              "  const outputElement = document.getElementById(outputId);\n",
              "  outputElement.innerHTML = '';\n",
              "\n",
              "  const pickedPromise = new Promise((resolve) => {\n",
              "    inputElement.addEventListener('change', (e) => {\n",
              "      resolve(e.target.files);\n",
              "    });\n",
              "  });\n",
              "\n",
              "  const cancel = document.createElement('button');\n",
              "  inputElement.parentElement.appendChild(cancel);\n",
              "  cancel.textContent = 'Cancel upload';\n",
              "  const cancelPromise = new Promise((resolve) => {\n",
              "    cancel.onclick = () => {\n",
              "      resolve(null);\n",
              "    };\n",
              "  });\n",
              "\n",
              "  // Wait for the user to pick the files.\n",
              "  const files = yield {\n",
              "    promise: Promise.race([pickedPromise, cancelPromise]),\n",
              "    response: {\n",
              "      action: 'starting',\n",
              "    }\n",
              "  };\n",
              "\n",
              "  cancel.remove();\n",
              "\n",
              "  // Disable the input element since further picks are not allowed.\n",
              "  inputElement.disabled = true;\n",
              "\n",
              "  if (!files) {\n",
              "    return {\n",
              "      response: {\n",
              "        action: 'complete',\n",
              "      }\n",
              "    };\n",
              "  }\n",
              "\n",
              "  for (const file of files) {\n",
              "    const li = document.createElement('li');\n",
              "    li.append(span(file.name, {fontWeight: 'bold'}));\n",
              "    li.append(span(\n",
              "        `(${file.type || 'n/a'}) - ${file.size} bytes, ` +\n",
              "        `last modified: ${\n",
              "            file.lastModifiedDate ? file.lastModifiedDate.toLocaleDateString() :\n",
              "                                    'n/a'} - `));\n",
              "    const percent = span('0% done');\n",
              "    li.appendChild(percent);\n",
              "\n",
              "    outputElement.appendChild(li);\n",
              "\n",
              "    const fileDataPromise = new Promise((resolve) => {\n",
              "      const reader = new FileReader();\n",
              "      reader.onload = (e) => {\n",
              "        resolve(e.target.result);\n",
              "      };\n",
              "      reader.readAsArrayBuffer(file);\n",
              "    });\n",
              "    // Wait for the data to be ready.\n",
              "    let fileData = yield {\n",
              "      promise: fileDataPromise,\n",
              "      response: {\n",
              "        action: 'continue',\n",
              "      }\n",
              "    };\n",
              "\n",
              "    // Use a chunked sending to avoid message size limits. See b/62115660.\n",
              "    let position = 0;\n",
              "    do {\n",
              "      const length = Math.min(fileData.byteLength - position, MAX_PAYLOAD_SIZE);\n",
              "      const chunk = new Uint8Array(fileData, position, length);\n",
              "      position += length;\n",
              "\n",
              "      const base64 = btoa(String.fromCharCode.apply(null, chunk));\n",
              "      yield {\n",
              "        response: {\n",
              "          action: 'append',\n",
              "          file: file.name,\n",
              "          data: base64,\n",
              "        },\n",
              "      };\n",
              "\n",
              "      let percentDone = fileData.byteLength === 0 ?\n",
              "          100 :\n",
              "          Math.round((position / fileData.byteLength) * 100);\n",
              "      percent.textContent = `${percentDone}% done`;\n",
              "\n",
              "    } while (position < fileData.byteLength);\n",
              "  }\n",
              "\n",
              "  // All done.\n",
              "  yield {\n",
              "    response: {\n",
              "      action: 'complete',\n",
              "    }\n",
              "  };\n",
              "}\n",
              "\n",
              "scope.google = scope.google || {};\n",
              "scope.google.colab = scope.google.colab || {};\n",
              "scope.google.colab._files = {\n",
              "  _uploadFiles,\n",
              "  _uploadFilesContinue,\n",
              "};\n",
              "})(self);\n",
              "</script> "
            ]
          },
          "metadata": {}
        },
        {
          "output_type": "stream",
          "name": "stdout",
          "text": [
            "Saving Testing.zip to Testing.zip\n",
            "Saving Testing1.zip to Testing1.zip\n",
            "Saving Training.zip to Training.zip\n",
            "Saving Training1.zip to Training1.zip\n"
          ]
        }
      ]
    },
    {
      "cell_type": "code",
      "execution_count": 4,
      "metadata": {
        "id": "5jc5aziG9cJI"
      },
      "outputs": [],
      "source": [
        "import zipfile\n",
        "\n",
        "with zipfile.ZipFile(\"Training.zip\", \"r\") as zip_ref:\n",
        "  zip_ref.extractall(\"BrainTumourDataset/Training\")\n",
        "\n",
        "with zipfile.ZipFile(\"Testing.zip\", \"r\") as zip_ref:\n",
        "  zip_ref.extractall(\"BrainTumourDataset/Testing\")\n",
        "\n",
        "with zipfile.ZipFile(\"Training1.zip\", \"r\") as zip_ref:\n",
        "  zip_ref.extractall(\"BrainTumourDataset/Training1\")\n",
        "\n",
        "with zipfile.ZipFile(\"Testing1.zip\", \"r\") as zip_ref:\n",
        "  zip_ref.extractall(\"BrainTumourDataset/Testing1\")"
      ]
    },
    {
      "cell_type": "markdown",
      "source": [
        "This block merges the original dataset folders (\"Training\", \"Testing\")\n",
        "with additional datasets (\"Training1\", \"Testing1\") to create a combined dataset  "
      ],
      "metadata": {
        "id": "ldgeCXF6Hqc5"
      }
    },
    {
      "cell_type": "code",
      "source": [
        "# Merging Datasets\n",
        "\n",
        "import os\n",
        "import shutil #  used to move or copy files from one place to another\n",
        "\n",
        "def merge_folders(source_dir, target_dir):\n",
        "  for class_name in os.listdir(source_dir):\n",
        "    source_class_dir=os.path.join(source_dir, class_name)\n",
        "    target_class_dir=os.path.join(target_dir, class_name)\n",
        "\n",
        "    if not os.path.exists(target_class_dir):\n",
        "      os.makedirs(target_class_dir)\n",
        "\n",
        "    for filename in os.listdir(source_class_dir):\n",
        "      shutil.move(\n",
        "          os.path.join(source_class_dir, filename),\n",
        "          os.path.join(target_class_dir, filename)\n",
        "      )\n",
        "# Merge new data into existing old folders\n",
        "merge_folders(\"BrainTumourDataset/Training1/Training\", \"BrainTumourDataset/Training/Training\")\n",
        "merge_folders(\"BrainTumourDataset/Testing1/Testing\", \"BrainTumourDataset/Testing/Testing\")"
      ],
      "metadata": {
        "id": "6PPX-H58BSIk"
      },
      "execution_count": 8,
      "outputs": []
    },
    {
      "cell_type": "markdown",
      "source": [
        "Merging duplicate class folders to maintain only 4 unique classes.\n",
        "\n",
        " For example, 'glioma_tumor' and 'glioma' contain the same type of data,\n",
        "\n",
        " so we move all files into a single 'glioma' folder.\n",
        "\n",
        " This helps ensure a clean and unified dataset structure for training and testing."
      ],
      "metadata": {
        "id": "M-NF4W6bId5j"
      }
    },
    {
      "cell_type": "code",
      "source": [
        "# Merging class folders\n",
        "\n",
        "import os\n",
        "import shutil\n",
        "\n",
        "def merge_names(source_folder, target_folder):\n",
        "  if os.path.exists(source_folder) and os.path.exists(target_folder):\n",
        "    for filename in os.listdir(source_folder):\n",
        "      shutil.move(os.path.join(source_folder,filename), os.path.join(target_folder, filename))\n",
        "    os.rmdir(source_folder)\n",
        "\n",
        "merge_names('BrainTumourDataset/Training/Training/glioma_tumor', 'BrainTumourDataset/Training/Training/glioma')\n",
        "merge_names('BrainTumourDataset/Training/Training/meningioma_tumor', 'BrainTumourDataset/Training/Training/meningioma')\n",
        "merge_names('BrainTumourDataset/Training/Training/pituitary_tumor', 'BrainTumourDataset/Training/Training/pituitary')\n",
        "merge_names('BrainTumourDataset/Training/Training/no_tumor', 'BrainTumourDataset/Training/Training/notumor')\n",
        "\n",
        "# for testing\n",
        "merge_names('BrainTumourDataset/Testing/Testing/glioma_tumor', 'BrainTumourDataset/Testing/Testing/glioma')\n",
        "merge_names('BrainTumourDataset/Testing/Testing/meningioma_tumor', 'BrainTumourDataset/Testing/Testing/meningioma')\n",
        "merge_names('BrainTumourDataset/Testing/Testing/pituitary_tumor', 'BrainTumourDataset/Testing/Testing/pituitary')\n",
        "merge_names('BrainTumourDataset/Testing/Testing/no_tumor', 'BrainTumourDataset/Testing/Testing/notumor')\n"
      ],
      "metadata": {
        "id": "CXQh_j8wXMxv"
      },
      "execution_count": 9,
      "outputs": []
    },
    {
      "cell_type": "code",
      "source": [
        "# Defining the paths for the cleaned and merged dataset directories\n",
        "\n",
        "train_dir=\"BrainTumourDataset/Training/Training\"\n",
        "test_dir=\"BrainTumourDataset/Testing/Testing\"\n",
        "\n",
        "train_data=datasets.ImageFolder(root=train_dir, transform=transform)\n",
        "test_data=datasets.ImageFolder(root=test_dir, transform=transform)\n"
      ],
      "metadata": {
        "id": "QIYfrDN1FbNQ"
      },
      "execution_count": 10,
      "outputs": []
    },
    {
      "cell_type": "code",
      "source": [
        "# create dataloaders\n",
        "\n",
        "train_dataloader=DataLoader(train_data, batch_size=32, shuffle=True)\n",
        "test_dataloader=DataLoader(test_data, batch_size=32, shuffle=False)"
      ],
      "metadata": {
        "id": "0PJttHoRbNd4"
      },
      "execution_count": 11,
      "outputs": []
    },
    {
      "cell_type": "markdown",
      "source": [
        "# Visualizing data"
      ],
      "metadata": {
        "id": "XaNgQ7Ynh8MH"
      }
    },
    {
      "cell_type": "code",
      "source": [
        "# Checking the final class names after merging folders\n",
        "\n",
        "class_names=train_data.classes\n",
        "class_names"
      ],
      "metadata": {
        "colab": {
          "base_uri": "https://localhost:8080/"
        },
        "id": "Dq5zjCMIlMxF",
        "outputId": "1b9be01b-24af-48c4-818b-d2527f5e14a1"
      },
      "execution_count": 13,
      "outputs": [
        {
          "output_type": "execute_result",
          "data": {
            "text/plain": [
              "['glioma', 'meningioma', 'notumor', 'pituitary']"
            ]
          },
          "metadata": {},
          "execution_count": 13
        }
      ]
    },
    {
      "cell_type": "code",
      "source": [
        "# function to display images from the training dataset\n",
        "\n",
        "import matplotlib.pyplot as plt\n",
        "import torchvision\n",
        "import numpy as np\n",
        "\n",
        "# Helper function to unnormalize and showm images\n",
        "def imshow(img, title=None):\n",
        "  img=img*0.5+0.5   # Unnormalize (mean=[0.5], std=[0.5]) was used\n",
        "  nping=img.numpy()\n",
        "  plt.imshow(np.transpose(nping, (1,2,0)), cmap='gray')  # Use cmap for grayscale\n",
        "  if title:\n",
        "    plt.title(title)\n",
        "  plt.tight_layout()\n",
        "  plt.axis('off')\n",
        "  plt.show()"
      ],
      "metadata": {
        "id": "N5gZcKBth-rU"
      },
      "execution_count": 18,
      "outputs": []
    },
    {
      "cell_type": "code",
      "source": [
        "# Get a batch of training data\n",
        "data_iter=iter(train_dataloader)\n",
        "images, labels=next(data_iter)\n",
        "\n",
        "# Show images\n",
        "imshow(torchvision.utils.make_grid(images[:5]), title=[class_names[i] for i in labels[:5]])"
      ],
      "metadata": {
        "id": "FU2I3L_EkOfN",
        "colab": {
          "base_uri": "https://localhost:8080/",
          "height": 174
        },
        "outputId": "d9d85849-fc2f-46a9-f133-67006d29b771"
      },
      "execution_count": 19,
      "outputs": [
        {
          "output_type": "display_data",
          "data": {
            "text/plain": [
              "<Figure size 640x480 with 1 Axes>"
            ],
            "image/png": "[encoded data removed]"
          },
          "metadata": {}
        }
      ]
    },
    {
      "cell_type": "markdown",
      "source": [
        "# Load Pretrained ResNet18 and Modify Final Layer"
      ],
      "metadata": {
        "id": "rwBDYE3VNbYZ"
      }
    },
    {
      "cell_type": "code",
      "source": [
        "# Load pre-trained ResNet18 model\n",
        "model=models.resnet18(pretrained=True)\n",
        "\n",
        "# freeze aearly layers (optinal: makes learning faster)\n",
        "for param in model.parameters():\n",
        "  param.requires_grad=False\n",
        "\n",
        "# Replace the final fully connected layer (original has 1000 outputs)\n",
        "num_features=model.fc.in_features\n",
        "model.fc=nn.Linear(num_features, 4)\n",
        "\n",
        "# send the model to device\n",
        "model=model.to(device)"
      ],
      "metadata": {
        "colab": {
          "base_uri": "https://localhost:8080/"
        },
        "id": "CpsDMga5Nd6N",
        "outputId": "219bd8b0-6f77-4442-d673-38f2a8e59beb"
      },
      "execution_count": 20,
      "outputs": [
        {
          "output_type": "stream",
          "name": "stderr",
          "text": [
            "/usr/local/lib/python3.11/dist-packages/torchvision/models/_utils.py:208: UserWarning: The parameter 'pretrained' is deprecated since 0.13 and may be removed in the future, please use 'weights' instead.\n",
            "  warnings.warn(\n",
            "/usr/local/lib/python3.11/dist-packages/torchvision/models/_utils.py:223: UserWarning: Arguments other than a weight enum or `None` for 'weights' are deprecated since 0.13 and may be removed in the future. The current behavior is equivalent to passing `weights=ResNet18_Weights.IMAGENET1K_V1`. You can also use `weights=ResNet18_Weights.DEFAULT` to get the most up-to-date weights.\n",
            "  warnings.warn(msg)\n",
            "Downloading: \"https://download.pytorch.org/models/resnet18-f37072fd.pth\" to /root/.cache/torch/hub/checkpoints/resnet18-f37072fd.pth\n",
            "100%|██████████| 44.7M/44.7M [00:00<00:00, 194MB/s]\n"
          ]
        }
      ]
    },
    {
      "cell_type": "markdown",
      "source": [
        "We load a pre-trained ResNet18 model from PyTorch's torchvision.models.\n",
        "\n",
        "It has been trained on the ImageNet dataset (1.2 million images, 1000 classes).\n",
        "\n",
        "The early layers have already learned to detect generic features like edges, textures, and shapes — which are useful for almost all vision tasks.\n",
        "\n"
      ],
      "metadata": {
        "id": "4y2VmG6OVoCk"
      }
    },
    {
      "cell_type": "markdown",
      "source": [
        "We freeze all layers so that their weights do not get updated during training."
      ],
      "metadata": {
        "id": "BqdQpOdrVh9o"
      }
    },
    {
      "cell_type": "markdown",
      "source": [
        "# Define Loss Function and Optimizer"
      ],
      "metadata": {
        "id": "BW8n1N7kVyyT"
      }
    },
    {
      "cell_type": "code",
      "source": [
        "loss_fxn=nn.CrossEntropyLoss()\n",
        "\n",
        "optimizer=torch.optim.Adam(params=model.parameters(), lr=0.001)"
      ],
      "metadata": {
        "id": "17aK1xQbVzv3"
      },
      "execution_count": 21,
      "outputs": []
    },
    {
      "cell_type": "markdown",
      "source": [
        "# Define Custom Accuracy function"
      ],
      "metadata": {
        "id": "DgXDNtJtWbcg"
      }
    },
    {
      "cell_type": "code",
      "source": [
        "def accuracy(y_true,y_pred):\n",
        "  correct=(y_true==y_pred).sum().item()\n",
        "  total=len(y_true)\n",
        "  return (correct/total)*100"
      ],
      "metadata": {
        "id": "bPVGuwYYWp2y"
      },
      "execution_count": 22,
      "outputs": []
    },
    {
      "cell_type": "markdown",
      "source": [
        "# Define the Training Function"
      ],
      "metadata": {
        "id": "_USwBEi3a8m6"
      }
    },
    {
      "cell_type": "code",
      "source": [
        "# Train function\n",
        "\n",
        "def train(model, dataloader, loss_fxn, optimizer, accuracy_fn, device):\n",
        "  # Set the model to training mode\n",
        "  model.train()\n",
        "\n",
        "  train_loss=0\n",
        "  train_acc=0\n",
        "\n",
        "  # Empty lists to store true and predicted labels\n",
        "  all_preds = []\n",
        "  all_labels = []\n",
        "\n",
        "  for images, labels in dataloader:\n",
        "\n",
        "    # send data to the device\n",
        "    images = images.to(device)\n",
        "    labels = labels.to(device)\n",
        "\n",
        "    # 1. forward pass\n",
        "    outputs=model(images)\n",
        "\n",
        "    # 2. calculate the loss/acc\n",
        "    loss=loss_fxn(outputs, labels)\n",
        "    acc=accuracy_fn(labels, outputs.argmax(dim=1))\n",
        "\n",
        "    # 3. optimizer zero grad\n",
        "    optimizer.zero_grad()\n",
        "\n",
        "    # 4. loss backward\n",
        "    loss.backward()\n",
        "\n",
        "    # 5. optimizer step\n",
        "    optimizer.step()\n",
        "\n",
        "    # 6. Accumulate loss and acc\n",
        "    train_loss+=loss.item()\n",
        "    train_acc+=acc\n",
        "\n",
        "    # get predictions\n",
        "    _, preds=torch.max(outputs, dim=1)\n",
        "\n",
        "    all_preds+=preds.cpu().tolist()\n",
        "    all_labels+=labels.cpu().tolist()\n",
        "\n",
        "# Average over all batches\n",
        "  train_loss=train_loss/len(dataloader)\n",
        "  train_acc=train_acc/len(dataloader)\n",
        "\n",
        "  return train_loss, train_acc, all_preds, all_labels"
      ],
      "metadata": {
        "id": "2Ho--4SAa9l5"
      },
      "execution_count": 24,
      "outputs": []
    },
    {
      "cell_type": "markdown",
      "source": [
        "# Define the Validation Function"
      ],
      "metadata": {
        "id": "IofRktVfhPtw"
      }
    },
    {
      "cell_type": "code",
      "source": [
        "# validation function\n",
        "\n",
        "def test(model, dataloader, loss_fxn, accuracy_fn, device):\n",
        "  # Set the model in evaluation mode\n",
        "  model.eval()\n",
        "\n",
        "  test_loss=0\n",
        "  test_acc=0\n",
        "\n",
        "  all_preds=[]\n",
        "  all_labels=[]\n",
        "\n",
        "  with torch.inference_mode():\n",
        "    for images, labels in dataloader:\n",
        "      images, labels=images.to(device), labels.to(device)\n",
        "\n",
        "      # 1. forward pass\n",
        "      outputs=model(images)\n",
        "\n",
        "      # 2. calculate the loss/acc\n",
        "      loss=loss_fxn(outputs, labels)\n",
        "      acc=accuracy_fn(labels, outputs.argmax(dim=1))\n",
        "\n",
        "      test_loss+=loss.item()\n",
        "      test_acc+=acc\n",
        "\n",
        "      # get predictions\n",
        "      _, preds=torch.max(outputs, dim=1)\n",
        "      all_preds+=preds.cpu().tolist()\n",
        "      all_labels+=labels.cpu().tolist()\n",
        "\n",
        "    test_loss/=len(dataloader)\n",
        "    test_acc/=len(dataloader)\n",
        "\n",
        "  return test_loss, test_acc, all_preds, all_labels\n",
        "\n",
        "\n",
        "\n"
      ],
      "metadata": {
        "id": "alpAwFCCg6cc"
      },
      "execution_count": 25,
      "outputs": []
    },
    {
      "cell_type": "markdown",
      "source": [
        "# Building a training loop"
      ],
      "metadata": {
        "id": "JbaMECN9lM_F"
      }
    },
    {
      "cell_type": "code",
      "source": [
        "# Import tqdm for progress bar\n",
        "from tqdm.auto import tqdm"
      ],
      "metadata": {
        "id": "Fa8_OmRcu7Vk"
      },
      "execution_count": null,
      "outputs": []
    },
    {
      "cell_type": "code",
      "source": [
        "# Set the number of epochs\n",
        "epochs=50\n",
        "\n",
        "# Store test predictions and labels from the final epoch\n",
        "final_test_preds = []\n",
        "final_test_labels = []\n",
        "\n",
        "for epoch in tqdm(range(epochs)):\n",
        "  train_loss, train_acc, all_preds, all_labels=train(model=model,\n",
        "        dataloader=train_dataloader,\n",
        "        loss_fxn=loss_fxn,\n",
        "        accuracy_fn=accuracy,\n",
        "        optimizer=optimizer,\n",
        "        device=device)\n",
        "\n",
        "  test_loss, test_acc, all_preds, all_labels=test(model=model,\n",
        "                           dataloader=test_dataloader,\n",
        "                           loss_fxn=loss_fxn,\n",
        "                           accuracy_fn=accuracy,\n",
        "                           device=device)\n",
        "  if epoch==epochs-1:\n",
        "    model.eval()\n",
        "    with torch.inference_mode():\n",
        "      for images, labels in test_dataloader:\n",
        "        images, labels=images.to(device), labels.to(device)\n",
        "        outputs=model(images)\n",
        "        _, preds=torch.max(outputs, dim=1)\n",
        "        final_test_preds+=preds.cpu().tolist()\n",
        "        final_test_labels+=labels.cpu().tolist()\n",
        "\n",
        "  # print what's happening after every 10 epoch\n",
        "  if epoch%10==0:\n",
        "    print(f\"Epoch: {epoch} | Train Loss: {train_loss:.4f} | Train Acc: {train_acc:.2f} | Test Loss: {test_loss:.4f} | Test Acc: {test_acc:.2f}\")"
      ],
      "metadata": {
        "id": "poydCB38lScG",
        "colab": {
          "base_uri": "https://localhost:8080/",
          "height": 67,
          "referenced_widgets": [
            "44d42f929ddd4d5d8fb3ec7bb5251cf4",
            "121eb8191af747a4808be4f61403b22e",
            "20a3eb4bf13345ffa340151994597a9c",
            "4f162666a3ad408cac09353c33202b12",
            "d10218f947c64a69805f4a2633516fc8",
            "626aedcd4353400bbbff6b8115232a8e",
            "0ba6cc0a75b6425f9727578a61ce21d6",
            "3bbd2ad65b9c4eafb13c6d5192a94ccc",
            "ea365c8f7eba4df381febfaaf89dc020",
            "e0448e722674482fb2e2b8413af37ab9",
            "a771dfd7ed124f0ca5750082d50c069d"
          ]
        },
        "outputId": "b6e4ce54-b861-45b7-fd92-6f3b0bc8f245"
      },
      "execution_count": null,
      "outputs": [
        {
          "output_type": "display_data",
          "data": {
            "text/plain": [
              "  0%|          | 0/5 [00:00<?, ?it/s]"
            ],
            "application/vnd.jupyter.widget-view+json": {
              "version_major": 2,
              "version_minor": 0,
              "model_id": "44d42f929ddd4d5d8fb3ec7bb5251cf4"
            }
          },
          "metadata": {}
        },
        {
          "output_type": "stream",
          "name": "stdout",
          "text": [
            "Epoch: 0 | Train Loss: 0.2166 | Train Acc: 92.17 | Test Loss: 0.1873 | Test Acc: 92.90\n"
          ]
        }
      ]
    },
    {
      "cell_type": "markdown",
      "source": [
        "# Save trained model"
      ],
      "metadata": {
        "id": "E6jh2Mr7O9q-"
      }
    },
    {
      "cell_type": "code",
      "source": [
        "# Saving trained model\n",
        "\n",
        "torch.save(model.state_dict(), \"brain_tumor_model_1.pth\")"
      ],
      "metadata": {
        "id": "S-S-pdJyO60u"
      },
      "execution_count": null,
      "outputs": []
    },
    {
      "cell_type": "markdown",
      "source": [
        "# Load the trained model"
      ],
      "metadata": {
        "id": "JCpEwugPLYeq"
      }
    },
    {
      "cell_type": "code",
      "source": [
        "# Loading the trained model (since it's on our local machine, and this will only work if you have the fil eon your local machine)\n",
        "\n",
        "from google.colab import files\n",
        "uploaded = files.upload()  # Choose your .pth file\n"
      ],
      "metadata": {
        "colab": {
          "base_uri": "https://localhost:8080/",
          "height": 73
        },
        "id": "_Qzz7ouxEVe2",
        "outputId": "1e4de640-715d-41db-fff2-f0bcbe8655fd"
      },
      "execution_count": 29,
      "outputs": [
        {
          "output_type": "display_data",
          "data": {
            "text/plain": [
              "<IPython.core.display.HTML object>"
            ],
            "text/html": [
              "\n",
              "     <input type=\"file\" id=\"files-fc6779c6-2532-4a08-b873-dc7e1391bc3c\" name=\"files[]\" multiple disabled\n",
              "        style=\"border:none\" />\n",
              "     <output id=\"result-fc6779c6-2532-4a08-b873-dc7e1391bc3c\">\n",
              "      Upload widget is only available when the cell has been executed in the\n",
              "      current browser session. Please rerun this cell to enable.\n",
              "      </output>\n",
              "      <script>// Copyright 2017 Google LLC\n",
              "//\n",
              "// Licensed under the Apache License, Version 2.0 (the \"License\");\n",
              "// you may not use this file except in compliance with the License.\n",
              "// You may obtain a copy of the License at\n",
              "//\n",
              "//      http://www.apache.org/licenses/LICENSE-2.0\n",
              "//\n",
              "// Unless required by applicable law or agreed to in writing, software\n",
              "// distributed under the License is distributed on an \"AS IS\" BASIS,\n",
              "// WITHOUT WARRANTIES OR CONDITIONS OF ANY KIND, either express or implied.\n",
              "// See the License for the specific language governing permissions and\n",
              "// limitations under the License.\n",
              "\n",
              "/**\n",
              " * @fileoverview Helpers for google.colab Python module.\n",
              " */\n",
              "(function(scope) {\n",
              "function span(text, styleAttributes = {}) {\n",
              "  const element = document.createElement('span');\n",
              "  element.textContent = text;\n",
              "  for (const key of Object.keys(styleAttributes)) {\n",
              "    element.style[key] = styleAttributes[key];\n",
              "  }\n",
              "  return element;\n",
              "}\n",
              "\n",
              "// Max number of bytes which will be uploaded at a time.\n",
              "const MAX_PAYLOAD_SIZE = 100 * 1024;\n",
              "\n",
              "function _uploadFiles(inputId, outputId) {\n",
              "  const steps = uploadFilesStep(inputId, outputId);\n",
              "  const outputElement = document.getElementById(outputId);\n",
              "  // Cache steps on the outputElement to make it available for the next call\n",
              "  // to uploadFilesContinue from Python.\n",
              "  outputElement.steps = steps;\n",
              "\n",
              "  return _uploadFilesContinue(outputId);\n",
              "}\n",
              "\n",
              "// This is roughly an async generator (not supported in the browser yet),\n",
              "// where there are multiple asynchronous steps and the Python side is going\n",
              "// to poll for completion of each step.\n",
              "// This uses a Promise to block the python side on completion of each step,\n",
              "// then passes the result of the previous step as the input to the next step.\n",
              "function _uploadFilesContinue(outputId) {\n",
              "  const outputElement = document.getElementById(outputId);\n",
              "  const steps = outputElement.steps;\n",
              "\n",
              "  const next = steps.next(outputElement.lastPromiseValue);\n",
              "  return Promise.resolve(next.value.promise).then((value) => {\n",
              "    // Cache the last promise value to make it available to the next\n",
              "    // step of the generator.\n",
              "    outputElement.lastPromiseValue = value;\n",
              "    return next.value.response;\n",
              "  });\n",
              "}\n",
              "\n",
              "/**\n",
              " * Generator function which is called between each async step of the upload\n",
              " * process.\n",
              " * @param {string} inputId Element ID of the input file picker element.\n",
              " * @param {string} outputId Element ID of the output display.\n",
              " * @return {!Iterable<!Object>} Iterable of next steps.\n",
              " */\n",
              "function* uploadFilesStep(inputId, outputId) {\n",
              "  const inputElement = document.getElementById(inputId);\n",
              "  inputElement.disabled = false;\n",
              "\n",
              "  const outputElement = document.getElementById(outputId);\n",
              "  outputElement.innerHTML = '';\n",
              "\n",
              "  const pickedPromise = new Promise((resolve) => {\n",
              "    inputElement.addEventListener('change', (e) => {\n",
              "      resolve(e.target.files);\n",
              "    });\n",
              "  });\n",
              "\n",
              "  const cancel = document.createElement('button');\n",
              "  inputElement.parentElement.appendChild(cancel);\n",
              "  cancel.textContent = 'Cancel upload';\n",
              "  const cancelPromise = new Promise((resolve) => {\n",
              "    cancel.onclick = () => {\n",
              "      resolve(null);\n",
              "    };\n",
              "  });\n",
              "\n",
              "  // Wait for the user to pick the files.\n",
              "  const files = yield {\n",
              "    promise: Promise.race([pickedPromise, cancelPromise]),\n",
              "    response: {\n",
              "      action: 'starting',\n",
              "    }\n",
              "  };\n",
              "\n",
              "  cancel.remove();\n",
              "\n",
              "  // Disable the input element since further picks are not allowed.\n",
              "  inputElement.disabled = true;\n",
              "\n",
              "  if (!files) {\n",
              "    return {\n",
              "      response: {\n",
              "        action: 'complete',\n",
              "      }\n",
              "    };\n",
              "  }\n",
              "\n",
              "  for (const file of files) {\n",
              "    const li = document.createElement('li');\n",
              "    li.append(span(file.name, {fontWeight: 'bold'}));\n",
              "    li.append(span(\n",
              "        `(${file.type || 'n/a'}) - ${file.size} bytes, ` +\n",
              "        `last modified: ${\n",
              "            file.lastModifiedDate ? file.lastModifiedDate.toLocaleDateString() :\n",
              "                                    'n/a'} - `));\n",
              "    const percent = span('0% done');\n",
              "    li.appendChild(percent);\n",
              "\n",
              "    outputElement.appendChild(li);\n",
              "\n",
              "    const fileDataPromise = new Promise((resolve) => {\n",
              "      const reader = new FileReader();\n",
              "      reader.onload = (e) => {\n",
              "        resolve(e.target.result);\n",
              "      };\n",
              "      reader.readAsArrayBuffer(file);\n",
              "    });\n",
              "    // Wait for the data to be ready.\n",
              "    let fileData = yield {\n",
              "      promise: fileDataPromise,\n",
              "      response: {\n",
              "        action: 'continue',\n",
              "      }\n",
              "    };\n",
              "\n",
              "    // Use a chunked sending to avoid message size limits. See b/62115660.\n",
              "    let position = 0;\n",
              "    do {\n",
              "      const length = Math.min(fileData.byteLength - position, MAX_PAYLOAD_SIZE);\n",
              "      const chunk = new Uint8Array(fileData, position, length);\n",
              "      position += length;\n",
              "\n",
              "      const base64 = btoa(String.fromCharCode.apply(null, chunk));\n",
              "      yield {\n",
              "        response: {\n",
              "          action: 'append',\n",
              "          file: file.name,\n",
              "          data: base64,\n",
              "        },\n",
              "      };\n",
              "\n",
              "      let percentDone = fileData.byteLength === 0 ?\n",
              "          100 :\n",
              "          Math.round((position / fileData.byteLength) * 100);\n",
              "      percent.textContent = `${percentDone}% done`;\n",
              "\n",
              "    } while (position < fileData.byteLength);\n",
              "  }\n",
              "\n",
              "  // All done.\n",
              "  yield {\n",
              "    response: {\n",
              "      action: 'complete',\n",
              "    }\n",
              "  };\n",
              "}\n",
              "\n",
              "scope.google = scope.google || {};\n",
              "scope.google.colab = scope.google.colab || {};\n",
              "scope.google.colab._files = {\n",
              "  _uploadFiles,\n",
              "  _uploadFilesContinue,\n",
              "};\n",
              "})(self);\n",
              "</script> "
            ]
          },
          "metadata": {}
        },
        {
          "output_type": "stream",
          "name": "stdout",
          "text": [
            "Saving brain_tumor_model_1.pth to brain_tumor_model_1.pth\n"
          ]
        }
      ]
    },
    {
      "cell_type": "code",
      "source": [
        "# LOAD THE SAVED MODEL\n",
        "\n",
        "import torch\n",
        "from torchvision import models\n",
        "\n",
        "# Re- define the same model architecture\n",
        "model=models.resnet18(pretrained=False)\n",
        "model.fc=torch.nn.Linear(model.fc.in_features, 4)\n",
        "\n",
        "model.to(device)\n",
        "\n",
        "# Load the saved weights\n",
        "model.load_state_dict(torch.load(\"brain_tumor_model_1.pth\", map_location=device))\n",
        "model.eval()"
      ],
      "metadata": {
        "colab": {
          "base_uri": "https://localhost:8080/"
        },
        "id": "MWkJU92KA2LO",
        "outputId": "4194aac9-7b17-40a0-9c4d-1f556d1f6f12"
      },
      "execution_count": 30,
      "outputs": [
        {
          "output_type": "stream",
          "name": "stderr",
          "text": [
            "/usr/local/lib/python3.11/dist-packages/torchvision/models/_utils.py:223: UserWarning: Arguments other than a weight enum or `None` for 'weights' are deprecated since 0.13 and may be removed in the future. The current behavior is equivalent to passing `weights=None`.\n",
            "  warnings.warn(msg)\n"
          ]
        },
        {
          "output_type": "execute_result",
          "data": {
            "text/plain": [
              "ResNet(\n",
              "  (conv1): Conv2d(3, 64, kernel_size=(7, 7), stride=(2, 2), padding=(3, 3), bias=False)\n",
              "  (bn1): BatchNorm2d(64, eps=1e-05, momentum=0.1, affine=True, track_running_stats=True)\n",
              "  (relu): ReLU(inplace=True)\n",
              "  (maxpool): MaxPool2d(kernel_size=3, stride=2, padding=1, dilation=1, ceil_mode=False)\n",
              "  (layer1): Sequential(\n",
              "    (0): BasicBlock(\n",
              "      (conv1): Conv2d(64, 64, kernel_size=(3, 3), stride=(1, 1), padding=(1, 1), bias=False)\n",
              "      (bn1): BatchNorm2d(64, eps=1e-05, momentum=0.1, affine=True, track_running_stats=True)\n",
              "      (relu): ReLU(inplace=True)\n",
              "      (conv2): Conv2d(64, 64, kernel_size=(3, 3), stride=(1, 1), padding=(1, 1), bias=False)\n",
              "      (bn2): BatchNorm2d(64, eps=1e-05, momentum=0.1, affine=True, track_running_stats=True)\n",
              "    )\n",
              "    (1): BasicBlock(\n",
              "      (conv1): Conv2d(64, 64, kernel_size=(3, 3), stride=(1, 1), padding=(1, 1), bias=False)\n",
              "      (bn1): BatchNorm2d(64, eps=1e-05, momentum=0.1, affine=True, track_running_stats=True)\n",
              "      (relu): ReLU(inplace=True)\n",
              "      (conv2): Conv2d(64, 64, kernel_size=(3, 3), stride=(1, 1), padding=(1, 1), bias=False)\n",
              "      (bn2): BatchNorm2d(64, eps=1e-05, momentum=0.1, affine=True, track_running_stats=True)\n",
              "    )\n",
              "  )\n",
              "  (layer2): Sequential(\n",
              "    (0): BasicBlock(\n",
              "      (conv1): Conv2d(64, 128, kernel_size=(3, 3), stride=(2, 2), padding=(1, 1), bias=False)\n",
              "      (bn1): BatchNorm2d(128, eps=1e-05, momentum=0.1, affine=True, track_running_stats=True)\n",
              "      (relu): ReLU(inplace=True)\n",
              "      (conv2): Conv2d(128, 128, kernel_size=(3, 3), stride=(1, 1), padding=(1, 1), bias=False)\n",
              "      (bn2): BatchNorm2d(128, eps=1e-05, momentum=0.1, affine=True, track_running_stats=True)\n",
              "      (downsample): Sequential(\n",
              "        (0): Conv2d(64, 128, kernel_size=(1, 1), stride=(2, 2), bias=False)\n",
              "        (1): BatchNorm2d(128, eps=1e-05, momentum=0.1, affine=True, track_running_stats=True)\n",
              "      )\n",
              "    )\n",
              "    (1): BasicBlock(\n",
              "      (conv1): Conv2d(128, 128, kernel_size=(3, 3), stride=(1, 1), padding=(1, 1), bias=False)\n",
              "      (bn1): BatchNorm2d(128, eps=1e-05, momentum=0.1, affine=True, track_running_stats=True)\n",
              "      (relu): ReLU(inplace=True)\n",
              "      (conv2): Conv2d(128, 128, kernel_size=(3, 3), stride=(1, 1), padding=(1, 1), bias=False)\n",
              "      (bn2): BatchNorm2d(128, eps=1e-05, momentum=0.1, affine=True, track_running_stats=True)\n",
              "    )\n",
              "  )\n",
              "  (layer3): Sequential(\n",
              "    (0): BasicBlock(\n",
              "      (conv1): Conv2d(128, 256, kernel_size=(3, 3), stride=(2, 2), padding=(1, 1), bias=False)\n",
              "      (bn1): BatchNorm2d(256, eps=1e-05, momentum=0.1, affine=True, track_running_stats=True)\n",
              "      (relu): ReLU(inplace=True)\n",
              "      (conv2): Conv2d(256, 256, kernel_size=(3, 3), stride=(1, 1), padding=(1, 1), bias=False)\n",
              "      (bn2): BatchNorm2d(256, eps=1e-05, momentum=0.1, affine=True, track_running_stats=True)\n",
              "      (downsample): Sequential(\n",
              "        (0): Conv2d(128, 256, kernel_size=(1, 1), stride=(2, 2), bias=False)\n",
              "        (1): BatchNorm2d(256, eps=1e-05, momentum=0.1, affine=True, track_running_stats=True)\n",
              "      )\n",
              "    )\n",
              "    (1): BasicBlock(\n",
              "      (conv1): Conv2d(256, 256, kernel_size=(3, 3), stride=(1, 1), padding=(1, 1), bias=False)\n",
              "      (bn1): BatchNorm2d(256, eps=1e-05, momentum=0.1, affine=True, track_running_stats=True)\n",
              "      (relu): ReLU(inplace=True)\n",
              "      (conv2): Conv2d(256, 256, kernel_size=(3, 3), stride=(1, 1), padding=(1, 1), bias=False)\n",
              "      (bn2): BatchNorm2d(256, eps=1e-05, momentum=0.1, affine=True, track_running_stats=True)\n",
              "    )\n",
              "  )\n",
              "  (layer4): Sequential(\n",
              "    (0): BasicBlock(\n",
              "      (conv1): Conv2d(256, 512, kernel_size=(3, 3), stride=(2, 2), padding=(1, 1), bias=False)\n",
              "      (bn1): BatchNorm2d(512, eps=1e-05, momentum=0.1, affine=True, track_running_stats=True)\n",
              "      (relu): ReLU(inplace=True)\n",
              "      (conv2): Conv2d(512, 512, kernel_size=(3, 3), stride=(1, 1), padding=(1, 1), bias=False)\n",
              "      (bn2): BatchNorm2d(512, eps=1e-05, momentum=0.1, affine=True, track_running_stats=True)\n",
              "      (downsample): Sequential(\n",
              "        (0): Conv2d(256, 512, kernel_size=(1, 1), stride=(2, 2), bias=False)\n",
              "        (1): BatchNorm2d(512, eps=1e-05, momentum=0.1, affine=True, track_running_stats=True)\n",
              "      )\n",
              "    )\n",
              "    (1): BasicBlock(\n",
              "      (conv1): Conv2d(512, 512, kernel_size=(3, 3), stride=(1, 1), padding=(1, 1), bias=False)\n",
              "      (bn1): BatchNorm2d(512, eps=1e-05, momentum=0.1, affine=True, track_running_stats=True)\n",
              "      (relu): ReLU(inplace=True)\n",
              "      (conv2): Conv2d(512, 512, kernel_size=(3, 3), stride=(1, 1), padding=(1, 1), bias=False)\n",
              "      (bn2): BatchNorm2d(512, eps=1e-05, momentum=0.1, affine=True, track_running_stats=True)\n",
              "    )\n",
              "  )\n",
              "  (avgpool): AdaptiveAvgPool2d(output_size=(1, 1))\n",
              "  (fc): Linear(in_features=512, out_features=4, bias=True)\n",
              ")"
            ]
          },
          "metadata": {},
          "execution_count": 30
        }
      ]
    },
    {
      "cell_type": "code",
      "source": [
        "# Evaluating the model (with trained parmeters) using test function\n",
        "\n",
        "model.eval()\n",
        "\n",
        "test_loss, test_acc, all_preds, all_labels=test(model=model,\n",
        "                                                dataloader=test_dataloader,\n",
        "                                                loss_fxn=loss_fxn,\n",
        "                                                accuracy_fn=accuracy,\n",
        "                                                device=device)\n",
        "\n",
        "print(f\"Test Loss: {test_loss:.4f}\")\n",
        "print(f\"Test Accuracy : {test_acc:.2f}%\")"
      ],
      "metadata": {
        "colab": {
          "base_uri": "https://localhost:8080/"
        },
        "id": "KCIcJtc2OGbR",
        "outputId": "1b2e018a-0723-4f49-ae65-3d703d76509d"
      },
      "execution_count": 31,
      "outputs": [
        {
          "output_type": "stream",
          "name": "stdout",
          "text": [
            "Test Loss: 0.2600\n",
            "Test Accuracy : 91.55%\n"
          ]
        }
      ]
    },
    {
      "cell_type": "markdown",
      "source": [
        "# Plot the Confusion Matrix"
      ],
      "metadata": {
        "id": "h4ci8tzb4bZK"
      }
    },
    {
      "cell_type": "markdown",
      "source": [
        "Plotting the confusion matrix to visualize how well the model is classifying each class"
      ],
      "metadata": {
        "id": "GAYypxbMPIzZ"
      }
    },
    {
      "cell_type": "code",
      "source": [
        "# Confusion matrix for the test dataset\n",
        "\n",
        "from sklearn.metrics import confusion_matrix, ConfusionMatrixDisplay\n",
        "import matplotlib. pyplot as plt\n",
        "\n",
        "# Compute the confusion matrix\n",
        "cm=confusion_matrix(all_labels, all_preds)\n",
        "\n",
        "# Plot it\n",
        "display=ConfusionMatrixDisplay(confusion_matrix=cm)\n",
        "display.plot(cmap='Blues', xticks_rotation=45)\n",
        "plt.title(\"Test Confusion Matrix (Final Epoch)\")\n",
        "plt.show()"
      ],
      "metadata": {
        "id": "l8HEUM0l4dx_",
        "colab": {
          "base_uri": "https://localhost:8080/",
          "height": 474
        },
        "outputId": "2f813f88-e72c-4a7d-f2d9-ecf20a029049"
      },
      "execution_count": 34,
      "outputs": [
        {
          "output_type": "display_data",
          "data": {
            "text/plain": [
              "<Figure size 640x480 with 2 Axes>"
            ],
            "image/png": "[encoded data removed]"
          },
          "metadata": {}
        }
      ]
    },
    {
      "cell_type": "markdown",
      "source": [
        "# Create an inference function\n"
      ],
      "metadata": {
        "id": "LGEIAqy9Po5S"
      }
    },
    {
      "cell_type": "markdown",
      "source": [
        "This defines a function called predict_image that:\n",
        "\n",
        "Takes an image path as input,\n",
        "\n",
        "Uses your trained model to predict the class,\n",
        "\n",
        "Returns the predicted class label from class_names,\n",
        "\n",
        "Runs the model on a specified device (like \"cpu\" or \"cuda\")."
      ],
      "metadata": {
        "id": "U5pMBG5DP2VM"
      }
    },
    {
      "cell_type": "code",
      "source": [
        "def predict_image(image, model, class_names, device):\n",
        "    # Image preprocessing pipeline\n",
        "    transform = transforms.Compose([\n",
        "        transforms.Resize((224, 224)),\n",
        "        transforms.Grayscale(num_output_channels=3),  # ResNet expects 3 channels\n",
        "        transforms.ToTensor(),\n",
        "        transforms.Normalize(mean=[0.5, 0.5, 0.5], std=[0.5, 0.5, 0.5])\n",
        "    ])\n",
        "\n",
        "    # Transform the image\n",
        "    image = transform(image).unsqueeze(0).to(device)\n",
        "\n",
        "    # Inference\n",
        "    model.eval()\n",
        "    with torch.inference_mode():\n",
        "        output = model(image)  # raw logits\n",
        "        _, predicted = torch.max(output, dim=1)\n",
        "        return class_names[predicted.item()]\n"
      ],
      "metadata": {
        "id": "2NMuZOd2P73F"
      },
      "execution_count": null,
      "outputs": []
    },
    {
      "cell_type": "markdown",
      "source": [
        "# Create a simple user interface\n"
      ],
      "metadata": {
        "id": "8-aGk3uDQB2Y"
      }
    },
    {
      "cell_type": "markdown",
      "source": [
        "Use Gradio (super simple and perfect for deep learning deployment).\n"
      ],
      "metadata": {
        "id": "zdniWFTaQCjt"
      }
    },
    {
      "cell_type": "code",
      "source": [
        "import gradio as gr\n",
        "\n",
        "# load the model\n",
        "\n",
        "model=models.resnet18(pretrained=False)  # pretrained=False since we’ll load our own weights\n",
        "model.fc=torch.nn.Linear(model.fc.in_features, 4)\n",
        "model.load_state_dict(torch.load(\"brain_tumor_model_1.pth\", map_location='cpu'))\n",
        "\n",
        "model.to(device)\n",
        "\n",
        "# # Class labels\n",
        "class_names = ['Glioma', 'Meningioma', 'No Tumor', 'Pituitary']\n",
        "\n",
        "# prediction function\n",
        "def classify_mri(image):\n",
        "  prediction=predict_image(image, model,class_names, device=device)\n",
        "  return prediction\n",
        "\n",
        "# create the gradio interface\n",
        "interface=gr.Interface(\n",
        "    fn=classify_mri,\n",
        "    inputs=gr.Image(type='pil'),\n",
        "    outputs=gr.Label(num_top_classes=4),\n",
        "    title=\"Brain Tumor Classifier\",\n",
        "    description=\"Upload an MRI brain scan to detect tumor type: Glioma, Meningioma, No Tumor, or Pituitary.\",\n",
        "    live=True\n",
        ")\n",
        "\n",
        "# Launch the interface\n",
        "interface.launch(share=True)"
      ],
      "metadata": {
        "id": "PoW3KnG-QMNM"
      },
      "execution_count": null,
      "outputs": []
    }
  ]
}